{
  "cells": [
    {
      "cell_type": "markdown",
      "metadata": {
        "id": "view-in-github",
        "colab_type": "text"
      },
      "source": [
        "<a href=\"https://colab.research.google.com/github/shruti63-code/Data-cleaning_/blob/main/Data_Cleaning_Preprocessing.ipynb\" target=\"_parent\"><img src=\"https://colab.research.google.com/assets/colab-badge.svg\" alt=\"Open In Colab\"/></a>"
      ]
    },
    {
      "cell_type": "markdown",
      "metadata": {
        "id": "lwLmn98h3CvN"
      },
      "source": [
        "# 🧹 Data Cleaning & Preprocessing Example\n",
        "This notebook demonstrates how to perform **data cleaning** and **data preprocessing** in Python using Pandas and Scikit-learn.\n"
      ]
    },
    {
      "cell_type": "code",
      "execution_count": 1,
      "metadata": {
        "id": "iYgIX58c3CvQ"
      },
      "outputs": [],
      "source": [
        "# Step 1: Import libraries\n",
        "import pandas as pd\n",
        "import numpy as np\n",
        "from sklearn.preprocessing import StandardScaler, OneHotEncoder\n",
        "from sklearn.model_selection import train_test_split"
      ]
    },
    {
      "cell_type": "markdown",
      "metadata": {
        "id": "o-8S1bbg3CvS"
      },
      "source": [
        "## Step 2: Create a messy dataset\n"
      ]
    },
    {
      "cell_type": "code",
      "execution_count": 2,
      "metadata": {
        "colab": {
          "base_uri": "https://localhost:8080/"
        },
        "id": "UXtQgeXs3CvS",
        "outputId": "01cb0535-cb03-4e7f-bfb6-9a4bf46b4106"
      },
      "outputs": [
        {
          "output_type": "stream",
          "name": "stdout",
          "text": [
            "Raw Data:\n",
            "    Name   Age   Salary        Country\n",
            "0   John  25.0  50000.0            USA\n",
            "1  Alice   NaN  60000.0         U.S.A.\n",
            "2    Bob  30.0      NaN  United States\n",
            "3  Alice   NaN  60000.0         U.S.A.\n"
          ]
        }
      ],
      "source": [
        "data = {\n",
        "    \"Name\": [\"John\", \"Alice\", \"Bob\", \"Alice\"],\n",
        "    \"Age\": [25, np.nan, 30, np.nan],\n",
        "    \"Salary\": [50000, 60000, np.nan, 60000],\n",
        "    \"Country\": [\"USA\", \"U.S.A.\", \"United States\", \"U.S.A.\"]\n",
        "}\n",
        "\n",
        "df = pd.DataFrame(data)\n",
        "print(\"Raw Data:\")\n",
        "print(df)"
      ]
    },
    {
      "cell_type": "markdown",
      "metadata": {
        "id": "nFCbAWSZ3CvS"
      },
      "source": [
        "## Step 3: Data Cleaning\n"
      ]
    },
    {
      "cell_type": "code",
      "execution_count": 3,
      "metadata": {
        "colab": {
          "base_uri": "https://localhost:8080/"
        },
        "id": "VJBe2tlB3CvT",
        "outputId": "0aa7df2e-1b36-4289-fb2e-e4fdef0315af"
      },
      "outputs": [
        {
          "output_type": "stream",
          "name": "stdout",
          "text": [
            "Cleaned Data:\n",
            "    Name   Age        Salary Country\n",
            "0   John  25.0  50000.000000     USA\n",
            "1  Alice  27.5  60000.000000     USA\n",
            "2    Bob  30.0  56666.666667     USA\n"
          ]
        },
        {
          "output_type": "stream",
          "name": "stderr",
          "text": [
            "/tmp/ipython-input-3679829982.py:2: FutureWarning: A value is trying to be set on a copy of a DataFrame or Series through chained assignment using an inplace method.\n",
            "The behavior will change in pandas 3.0. This inplace method will never work because the intermediate object on which we are setting values always behaves as a copy.\n",
            "\n",
            "For example, when doing 'df[col].method(value, inplace=True)', try using 'df.method({col: value}, inplace=True)' or df[col] = df[col].method(value) instead, to perform the operation inplace on the original object.\n",
            "\n",
            "\n",
            "  df[\"Age\"].fillna(df[\"Age\"].median(), inplace=True)\n",
            "/tmp/ipython-input-3679829982.py:3: FutureWarning: A value is trying to be set on a copy of a DataFrame or Series through chained assignment using an inplace method.\n",
            "The behavior will change in pandas 3.0. This inplace method will never work because the intermediate object on which we are setting values always behaves as a copy.\n",
            "\n",
            "For example, when doing 'df[col].method(value, inplace=True)', try using 'df.method({col: value}, inplace=True)' or df[col] = df[col].method(value) instead, to perform the operation inplace on the original object.\n",
            "\n",
            "\n",
            "  df[\"Salary\"].fillna(df[\"Salary\"].mean(), inplace=True)\n"
          ]
        }
      ],
      "source": [
        "# Fill missing values\n",
        "df[\"Age\"].fillna(df[\"Age\"].median(), inplace=True)\n",
        "df[\"Salary\"].fillna(df[\"Salary\"].mean(), inplace=True)\n",
        "\n",
        "# Remove duplicates\n",
        "df = df.drop_duplicates()\n",
        "\n",
        "# Standardize country names\n",
        "df[\"Country\"] = df[\"Country\"].replace({\n",
        "    \"U.S.A.\": \"USA\",\n",
        "    \"United States\": \"USA\"\n",
        "})\n",
        "\n",
        "print(\"Cleaned Data:\")\n",
        "print(df)"
      ]
    },
    {
      "cell_type": "markdown",
      "metadata": {
        "id": "Cujp9x7g3CvT"
      },
      "source": [
        "## Step 4: Data Preprocessing\n"
      ]
    },
    {
      "cell_type": "code",
      "execution_count": 4,
      "metadata": {
        "colab": {
          "base_uri": "https://localhost:8080/"
        },
        "id": "VNE3xWs_3CvU",
        "outputId": "04999534-8a4d-4269-d849-0f81bd275e18"
      },
      "outputs": [
        {
          "output_type": "stream",
          "name": "stdout",
          "text": [
            "Preprocessed Data:\n",
            "    Name       Age    Salary  Country_USA\n",
            "0   John -1.224745 -1.336306          1.0\n",
            "1  Alice  0.000000  1.069045          1.0\n",
            "2    Bob  1.224745  0.267261          1.0\n"
          ]
        }
      ],
      "source": [
        "# Scale numerical features\n",
        "scaler = StandardScaler()\n",
        "df[[\"Age\", \"Salary\"]] = scaler.fit_transform(df[[\"Age\", \"Salary\"]])\n",
        "\n",
        "# Encode categorical feature\n",
        "encoder = OneHotEncoder(sparse_output=False)\n",
        "encoded_country = encoder.fit_transform(df[[\"Country\"]])\n",
        "encoded_df = pd.DataFrame(encoded_country, columns=encoder.get_feature_names_out([\"Country\"]))\n",
        "\n",
        "# Merge back into dataframe\n",
        "df = pd.concat([df.drop(\"Country\", axis=1), encoded_df], axis=1)\n",
        "\n",
        "print(\"Preprocessed Data:\")\n",
        "print(df)"
      ]
    },
    {
      "cell_type": "markdown",
      "metadata": {
        "id": "pqRyOrry3CvU"
      },
      "source": [
        "## Step 5: Train-Test Split"
      ]
    },
    {
      "cell_type": "code",
      "execution_count": 5,
      "metadata": {
        "colab": {
          "base_uri": "https://localhost:8080/"
        },
        "id": "fLjcriW73CvU",
        "outputId": "9f363705-f8be-4588-f22f-bb9932738d61"
      },
      "outputs": [
        {
          "output_type": "stream",
          "name": "stdout",
          "text": [
            "Training Features:\n",
            "        Age    Salary  Country_USA\n",
            "1  0.000000  1.069045          1.0\n",
            "2  1.224745  0.267261          1.0\n",
            "\n",
            "Testing Features:\n",
            "        Age    Salary  Country_USA\n",
            "0 -1.224745 -1.336306          1.0\n"
          ]
        }
      ],
      "source": [
        "X = df.drop(\"Name\", axis=1)\n",
        "y = df[\"Name\"]\n",
        "\n",
        "X_train, X_test, y_train, y_test = train_test_split(X, y, test_size=0.2, random_state=42)\n",
        "\n",
        "print(\"Training Features:\")\n",
        "print(X_train)\n",
        "print(\"\\nTesting Features:\")\n",
        "print(X_test)"
      ]
    },
    {
      "cell_type": "code",
      "source": [],
      "metadata": {
        "id": "Z0FfRiY53fYw"
      },
      "execution_count": null,
      "outputs": []
    }
  ],
  "metadata": {
    "kernelspec": {
      "display_name": "Python 3",
      "language": "python",
      "name": "python3"
    },
    "language_info": {
      "name": "python",
      "version": "3.10"
    },
    "colab": {
      "provenance": [],
      "include_colab_link": true
    }
  },
  "nbformat": 4,
  "nbformat_minor": 0
}